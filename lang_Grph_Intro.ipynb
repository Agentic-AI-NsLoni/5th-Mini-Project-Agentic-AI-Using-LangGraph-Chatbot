{
 "cells": [
  {
   "cell_type": "markdown",
   "id": "ca5056ad",
   "metadata": {},
   "source": [
    "AI AGENT / AGENTIC AI"
   ]
  },
  {
   "cell_type": "markdown",
   "id": "7eb4dadd",
   "metadata": {},
   "source": [
    "# Simple AI Assist\n",
    "# In RAG Provide the External data to the APPliCATION\n",
    "\n",
    "# LLM use the Itnernal Data Then Some time O/P may be incorrect and Not up-to the mark.\n",
    "\n",
    "# Why --> Agentic AI :- Agentic AI builds AI systems that can plan, decide, and act autonomously to achieve goals, not just generate outputs.\n",
    "\n",
    "# Data-Source ---->[DB(test, pdf, image, etc)] ----> Then Give the correct answer.\n",
    "\n",
    "# Then Data-Base [DB] --> Divide into ---> Chucks.\n",
    "\n",
    "# Store Check after embbedding[numerial representationod data], it's vector database[Store all the data after the chencks].\n",
    "\n",
    "# user ask any question the go to the Vector DB then check similarity check then, agents will help to search the simmilar/relative answer, then get final answer.\n",
    "\n",
    "# Always get o/p from LLM but before have some more excesizes.\n",
    "\n",
    "|---------------------------------------------------------|\n",
    "|                                                         |\n",
    "|                                                         |\n",
    "|   I/P ------------> [LLM]  ------------> O/P            |\n",
    "|                      ^                                  |\n",
    "|   Reasoning ---------|------------ Memory               |\n",
    "|   Tools -------------|------------ etc                  |\n",
    "|                                                         |\n",
    "|---------------------------------------------------------|\n",
    "\n",
    "In above diagram LLM becomes a Agent..\n",
    "\n",
    "\n",
    "\n",
    "# I/P[Prompt] ----------> [LLM] -----------> O/P[]"
   ]
  },
  {
   "cell_type": "code",
   "execution_count": 37,
   "id": "1b4bc05c",
   "metadata": {},
   "outputs": [],
   "source": [
    "from langgraph.graph import Graph"
   ]
  },
  {
   "cell_type": "code",
   "execution_count": 38,
   "id": "0af15d46",
   "metadata": {},
   "outputs": [],
   "source": [
    "from langchain_groq import ChatGroq"
   ]
  },
  {
   "cell_type": "code",
   "execution_count": 39,
   "id": "27647927",
   "metadata": {},
   "outputs": [],
   "source": [
    "llm = ChatGroq(model = \"llama3-70b-8192\")"
   ]
  },
  {
   "cell_type": "code",
   "execution_count": 40,
   "id": "687cc52f",
   "metadata": {},
   "outputs": [
    {
     "name": "stdout",
     "output_type": "stream",
     "text": [
      "I'm just a language model, I don't have emotions or feelings like humans do. However, I'm functioning properly and ready to assist you with any questions or tasks you may have! How can I help you today?\n"
     ]
    }
   ],
   "source": [
    "from langchain_groq import ChatGroq\n",
    "\n",
    "# Initialize the API client with the correct API key and model\n",
    "api_key = \"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\"  # Replace with your actual API key\n",
    "model = \"llama3-70b-8192\"  # Replace with the model name you want to use\n",
    "\n",
    "# Initialize the ChatGroq client\n",
    "llm = ChatGroq(api_key=api_key, model=model)\n",
    "\n",
    "# Make the API call\n",
    "response = llm.invoke(\"Hey, how are you?\")\n",
    "\n",
    "# Access the content of the response\n",
    "print(response.content)\n"
   ]
  },
  {
   "cell_type": "code",
   "execution_count": 57,
   "id": "ce2545f0",
   "metadata": {},
   "outputs": [
    {
     "data": {
      "text/plain": [
       "\"I'm just a language model, I don't have emotions or feelings like humans do, so I don't have good or bad days. However, I'm functioning properly and ready to assist you with any questions or tasks you may have! How can I help you today?\""
      ]
     },
     "execution_count": 57,
     "metadata": {},
     "output_type": "execute_result"
    }
   ],
   "source": [
    "llm.invoke(\"Hey How are you?\").content"
   ]
  },
  {
   "cell_type": "code",
   "execution_count": 98,
   "id": "b90ddc6f",
   "metadata": {},
   "outputs": [
    {
     "name": "stdout",
     "output_type": "stream",
     "text": [
      "content=\"I'm just a language model, I don't have feelings or emotions like humans do. However, I'm functioning properly and ready to assist you with any questions or tasks you may have! How can I help you today?\" additional_kwargs={} response_metadata={'token_usage': {'completion_tokens': 46, 'prompt_tokens': 16, 'total_tokens': 62, 'completion_time': 0.131428571, 'prompt_time': 0.000220538, 'queue_time': 0.053086792, 'total_time': 0.131649109}, 'model_name': 'llama3-70b-8192', 'system_fingerprint': 'fp_dd4ae1c591', 'finish_reason': 'stop', 'logprobs': None} id='run-6e54d44f-e902-4097-ac20-fe6302d20aa2-0' usage_metadata={'input_tokens': 16, 'output_tokens': 46, 'total_tokens': 62}\n"
     ]
    }
   ],
   "source": [
    "from langchain_groq import ChatGroq\n",
    "\n",
    "def function11(input):\n",
    "    # Initialize the API client with your actual API key\n",
    "    api_key = \"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\"  # Replace with your actual valid API key\n",
    "    model = \"llama3-70b-8192\"  # Example model, replace with the correct one you intend to use\n",
    "    \n",
    "    # Initialize the ChatGroq client\n",
    "    llm = ChatGroq(api_key=api_key, model=model)\n",
    "    \n",
    "    # Invoke the model with the input\n",
    "    response = llm.invoke(input)  # Using the input parameter passed to the function\n",
    "    \n",
    "    return response\n",
    "\n",
    "# Call the function with the input\n",
    "result = function1(\"Hey, how are you?\")\n",
    "print(result)\n",
    "\n"
   ]
  },
  {
   "cell_type": "code",
   "execution_count": 99,
   "metadata": {},
   "outputs": [],
   "source": [
    "api_key = \"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\"  # Replace with your actual valid API key\n"
   ]
  },
  {
   "cell_type": "code",
   "execution_count": 100,
   "id": "9c7e4111",
   "metadata": {},
   "outputs": [],
   "source": [
    "def function12(input):\n",
    "    upper_string = input.upper()\n",
    "    return upper_string"
   ]
  },
  {
   "cell_type": "code",
   "execution_count": 101,
   "id": "3242d8f6",
   "metadata": {},
   "outputs": [],
   "source": [
    "workflow = Graph()"
   ]
  },
  {
   "cell_type": "code",
   "execution_count": 102,
   "id": "9cba2a75",
   "metadata": {},
   "outputs": [
    {
     "data": {
      "text/plain": [
       "<langgraph.graph.graph.Graph at 0x212d4d30080>"
      ]
     },
     "execution_count": 102,
     "metadata": {},
     "output_type": "execute_result"
    }
   ],
   "source": [
    "workflow.add_node(\"LONI\", function11)\n",
    "\n",
    "workflow.add_node(\"NS LONI\", function12)"
   ]
  },
  {
   "cell_type": "code",
   "execution_count": 103,
   "id": "585ebc45",
   "metadata": {},
   "outputs": [
    {
     "data": {
      "text/plain": [
       "<langgraph.graph.graph.Graph at 0x212d4d30080>"
      ]
     },
     "execution_count": 103,
     "metadata": {},
     "output_type": "execute_result"
    }
   ],
   "source": [
    "workflow.add_edge(\"LONI\", \"NS LONI\")"
   ]
  },
  {
   "cell_type": "code",
   "execution_count": 104,
   "id": "a9203ae2",
   "metadata": {},
   "outputs": [
    {
     "data": {
      "text/plain": [
       "<langgraph.graph.graph.Graph at 0x212d4d30080>"
      ]
     },
     "execution_count": 104,
     "metadata": {},
     "output_type": "execute_result"
    }
   ],
   "source": [
    "workflow.set_entry_point(\"LONI\")"
   ]
  },
  {
   "cell_type": "code",
   "execution_count": 105,
   "id": "9531e8fa",
   "metadata": {},
   "outputs": [
    {
     "data": {
      "text/plain": [
       "<langgraph.graph.graph.Graph at 0x212d4d30080>"
      ]
     },
     "execution_count": 105,
     "metadata": {},
     "output_type": "execute_result"
    }
   ],
   "source": [
    "workflow.set_finish_point(\"NS LONI\")"
   ]
  },
  {
   "cell_type": "code",
   "execution_count": 106,
   "id": "961131b1",
   "metadata": {},
   "outputs": [],
   "source": [
    "app = workflow.compile()"
   ]
  },
  {
   "cell_type": "code",
   "execution_count": 107,
   "metadata": {},
   "outputs": [
    {
     "data": {
      "image/png": "[encoded data removed]",
      "text/plain": [
       "<IPython.core.display.Image object>"
      ]
     },
     "metadata": {},
     "output_type": "display_data"
    }
   ],
   "source": [
    "from IPython.display import display, Image\n",
    "\n",
    "try:\n",
    "    display(Image(app.get_graph().draw_mermaid_png()))\n",
    "\n",
    "except Exception as e:\n",
    "    print(e)"
   ]
  },
  {
   "cell_type": "code",
   "execution_count": null,
   "metadata": {},
   "outputs": [],
   "source": []
  },
  {
   "cell_type": "code",
   "execution_count": null,
   "id": "e1c3b992",
   "metadata": {},
   "outputs": [],
   "source": []
  },
  {
   "cell_type": "code",
   "execution_count": null,
   "id": "a1a0b57b",
   "metadata": {},
   "outputs": [],
   "source": []
  },
  {
   "cell_type": "code",
   "execution_count": null,
   "metadata": {},
   "outputs": [],
   "source": []
  },
  {
   "cell_type": "code",
   "execution_count": null,
   "id": "0330951f",
   "metadata": {},
   "outputs": [],
   "source": []
  }
 ],
 "metadata": {
  "kernelspec": {
   "display_name": "Python 3",
   "language": "python",
   "name": "python3"
  },
  "language_info": {
   "codemirror_mode": {
    "name": "ipython",
    "version": 3
   },
   "file_extension": ".py",
   "mimetype": "text/x-python",
   "name": "python",
   "nbconvert_exporter": "python",
   "pygments_lexer": "ipython3",
   "version": "3.12.7"
  }
 },
 "nbformat": 4,
 "nbformat_minor": 5
}
