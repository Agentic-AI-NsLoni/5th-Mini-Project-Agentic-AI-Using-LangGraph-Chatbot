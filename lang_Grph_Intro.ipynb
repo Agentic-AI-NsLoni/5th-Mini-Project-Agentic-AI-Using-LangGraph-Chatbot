{
 "cells": [
  {
   "cell_type": "markdown",
   "id": "ca5056ad",
   "metadata": {},
   "source": [
    "AI AGENT / AGENTIC AI"
   ]
  },
  {
   "cell_type": "markdown",
   "id": "7eb4dadd",
   "metadata": {},
   "source": [
    "# Simple AI Assist\n",
    "# In RAG Provide the External data to the APPliCATION\n",
    "\n",
    "# LLM use the Itnernal Data Then Some time O/P may be incorrect and Not up-to the mark.\n",
    "\n",
    "# Why --> Agentic AI :- Agentic AI builds AI systems that can plan, decide, and act autonomously to achieve goals, not just generate outputs.\n",
    "\n",
    "# Data-Source ---->[DB(test, pdf, image, etc)] ----> Then Give the correct answer.\n",
    "\n",
    "# Then Data-Base [DB] --> Divide into ---> Chucks.\n",
    "\n",
    "# Store Check after embbedding[numerial representationod data], it's vector database[Store all the data after the chencks].\n",
    "\n",
    "# user ask any question the go to the Vector DB then check similarity check then, agents will help to search the simmilar/relative answer, then get final answer.\n",
    "\n",
    "# Always get o/p from LLM but before have some more excesizes.\n",
    "\n",
    "|---------------------------------------------------------|\n",
    "|                                                         |\n",
    "|                                                         |\n",
    "|   I/P ------------> [LLM]  ------------> O/P            |\n",
    "|                      ^                                  |\n",
    "|   Reasoning ---------|------------ Memory               |\n",
    "|   Tools -------------|------------ etc                  |\n",
    "|                                                         |\n",
    "|---------------------------------------------------------|\n",
    "\n",
    "In above diagram LLM becomes a Agent..\n",
    "\n",
    "\n",
    "\n",
    "# I/P[Prompt] ----------> [LLM] -----------> O/P[]"
   ]
  },
  {
   "cell_type": "code",
   "execution_count": null,
   "id": "1b4bc05c",
   "metadata": {
    "vscode": {
     "languageId": "plaintext"
    }
   },
   "outputs": [],
   "source": []
  },
  {
   "cell_type": "code",
   "execution_count": null,
   "id": "0af15d46",
   "metadata": {
    "vscode": {
     "languageId": "plaintext"
    }
   },
   "outputs": [],
   "source": []
  },
  {
   "cell_type": "code",
   "execution_count": null,
   "id": "27647927",
   "metadata": {
    "vscode": {
     "languageId": "plaintext"
    }
   },
   "outputs": [],
   "source": []
  },
  {
   "cell_type": "code",
   "execution_count": null,
   "id": "ce2545f0",
   "metadata": {
    "vscode": {
     "languageId": "plaintext"
    }
   },
   "outputs": [],
   "source": []
  },
  {
   "cell_type": "code",
   "execution_count": null,
   "id": "9e78ad96",
   "metadata": {
    "vscode": {
     "languageId": "plaintext"
    }
   },
   "outputs": [],
   "source": []
  }
 ],
 "metadata": {
  "language_info": {
   "name": "python"
  }
 },
 "nbformat": 4,
 "nbformat_minor": 5
}
