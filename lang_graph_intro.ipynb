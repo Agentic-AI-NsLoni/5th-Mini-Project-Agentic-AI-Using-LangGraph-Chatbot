{
 "cells": [
  {
   "cell_type": "markdown",
   "id": "f6162bff",
   "metadata": {
    "vscode": {
     "languageId": "plaintext"
    }
   },
   "source": [
    "# AI Agents"
   ]
  },
  {
   "cell_type": "markdown",
   "id": "3ec9d427",
   "metadata": {},
   "source": [
    "# Simple AI Assist\n",
    "# In RAG Provide the External data to the APPliCATION\n",
    "\n",
    "# LLM use the Itnernal Data Then Some time O/P may be incorrect and Not up-to the mark.\n",
    "\n",
    "# Why --> Agentic AI :- Agentic AI builds AI systems that can plan, decide, and act autonomously to achieve goals, not just generate outputs.\n",
    "\n",
    "# Data-Source ---->[DB(test, pdf, image, etc)] ----> Then Give the correct answer.\n",
    "\n",
    "# Then Data-Base [DB] --> Divide into ---> Chucks.\n",
    "\n",
    "# Store Check after embbedding[numerial representationod data], it's vector database[Store all the data after the chencks].\n",
    "\n",
    "# user ask any question the go to the Vector DB then check similarity check then, agents will help to search the simmilar/relative answer, then get final answer.\n",
    "\n",
    "# Always get o/p from LLM but before have some more excesizes.\n",
    "\n",
    "# I/P ------------> [LLM]  ------------> O/P\n",
    "#                    ^\n",
    "# Reasoning ---------|------------ Memory    \n",
    "# Tools -------------|------------ etc\n",
    "\n",
    "\n",
    "\n",
    "# I/P[Prompt] ----------> [LLM] -----------> O/P[]"
   ]
  },
  {
   "cell_type": "code",
   "execution_count": null,
   "id": "92cde5f9",
   "metadata": {},
   "outputs": [],
   "source": []
  },
  {
   "cell_type": "code",
   "execution_count": null,
   "id": "08b7cf15",
   "metadata": {},
   "outputs": [],
   "source": []
  },
  {
   "cell_type": "code",
   "execution_count": null,
   "id": "75d33a83",
   "metadata": {},
   "outputs": [],
   "source": []
  },
  {
   "cell_type": "code",
   "execution_count": null,
   "id": "5809b0a5",
   "metadata": {},
   "outputs": [],
   "source": []
  },
  {
   "cell_type": "code",
   "execution_count": null,
   "id": "94eff1fa",
   "metadata": {},
   "outputs": [],
   "source": []
  }
 ],
 "metadata": {
  "kernelspec": {
   "display_name": "Python 3",
   "language": "python",
   "name": "python3"
  },
  "language_info": {
   "name": "python",
   "version": "3.12.7"
  }
 },
 "nbformat": 4,
 "nbformat_minor": 5
}
